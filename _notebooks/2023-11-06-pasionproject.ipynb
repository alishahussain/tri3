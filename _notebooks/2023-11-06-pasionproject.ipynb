{
 "cells": [
  {
   "cell_type": "markdown",
   "metadata": {},
   "source": [
    "---\n",
    "toc: true\n",
    "comments: false\n",
    "layout: post\n",
    "title: ☆ Passion Project\n",
    "type: tangibles\n",
    "courses: { compsci: {week: 12} }\n",
    "unit: 3\n",
    "---"
   ]
  },
  {
   "cell_type": "markdown",
   "metadata": {},
   "source": [
    "## About our Project + The Journey\n",
    "\n",
    "We created an online farmers market called FreshCart. Our vision was to enable individuals to access fresh, wholesome produce right from the comfort of their own homes. Using APIs and front-end development, we had much fun developing our APIs; the items in our store, a login API, and an add-to-cart function. Our journey continued with a frontend repository where we utilized primarily HTML and JavaScript to style the entire site, ensuring a user-friendly experience. We were also able to connect it to our backend so that the user could interact with the elements on the site! "
   ]
  },
  {
   "cell_type": "markdown",
   "metadata": {},
   "source": [
    "## More about my role\n",
    "\n",
    "I was the **lead of frontend**, so I was in charge of everything frontend. I was also responsible for making sure that my frontend coder, knew what she was supposed to be doing, and got it done. Organization was relaly important, and we were able to collaborate on slack as well as messages on how to split up the work. Once the styling and html of the site was done, I had to make sure backend was able to connect, and our site was operateable by a user. "
   ]
  },
  {
   "cell_type": "markdown",
   "metadata": {},
   "source": [
    "## My Key Commits + Code"
   ]
  },
  {
   "cell_type": "code",
   "execution_count": null,
   "metadata": {
    "vscode": {
     "languageId": "plaintext"
    }
   },
   "outputs": [],
   "source": [
    "<!DOCTYPE html>\n",
    "<html lang=\"en\">\n",
    "<head>\n",
    "    <meta charset=\"UTF-8\">\n",
    "    <meta name=\"viewport\" content=\"width=device-width, initial-scale=1.0\">\n",
    "    <title>Fruits</title>\n",
    "    <style>\n",
    "        table {\n",
    "            width: 100%;\n",
    "            border-collapse: collapse;\n",
    "        }\n",
    "        th, td {\n",
    "            border: 1px solid #ddd;\n",
    "            padding: 8px;\n",
    "            text-align: left;\n",
    "        }\n",
    "    </style>\n",
    "</head>\n",
    "<body>\n",
    "    <h1>Fruits</h1>\n",
    "    <table>\n",
    "        <tr>\n",
    "            <th>Product</th>\n",
    "            <th>Price $</th>\n",
    "            <th>Action</th>\n",
    "        </tr>\n",
    "        <tbody id=\"data\"></tbody>\n",
    "    </table>\n",
    "\n",
    "    <script>\n",
    "        // Function to make the API request and populate the table\n",
    "        function fetchData() {\n",
    "            fetch('http://localhost:8350/api/inventory/fruits')\n",
    "                .then(response => response.json())\n",
    "                .then(data => {\n",
    "                    const tableBody = document.getElementById('data');\n",
    "\n",
    "                    if (data && Array.isArray(data.fruits)) {\n",
    "                        data.fruits.forEach(item => {\n",
    "                            const row = document.createElement('tr');\n",
    "                            const productCell = document.createElement('td');\n",
    "                            const priceCell = document.createElement('td');\n",
    "\n",
    "                            productCell.textContent = item.name;\n",
    "                            priceCell.textContent = item.unitCost;\n",
    "\n",
    "                            row.appendChild(productCell);\n",
    "                            row.appendChild(priceCell);\n",
    "\n",
    "                            tableBody.appendChild(row);\n",
    "                        });\n",
    "                    } else {\n",
    "                        console.error('Data is not in the expected format:', data);\n",
    "                    }\n",
    "                })\n",
    "                .catch(error => {\n",
    "                    // Handle errors\n",
    "                    console.error('Error:', error);\n",
    "                });\n",
    "        }\n",
    "\n",
    "        // Call the fetchData function when the page loads\n",
    "        fetchData();\n",
    "        function fetchData() {\n",
    "            fetch('http://localhost:8350/api/inventory/fruits')\n",
    "                .then(response => response.json())\n",
    "                .then(data => {\n",
    "                    const tableBody = document.getElementById('data');\n",
    "\n",
    "                    if (data && Array.isArray(data.fruits)) {\n",
    "                        data.fruits.forEach(item => {\n",
    "                            const row = document.createElement('tr');\n",
    "                            const productCell = document.createElement('td');\n",
    "                            const priceCell = document.createElement('td');\n",
    "                            const actionCell = document.createElement('td'); // Create a new cell for the \"Add to Cart\" button\n",
    "\n",
    "                            productCell.textContent = item.name;\n",
    "                            priceCell.textContent = item.unitCost;\n",
    "\n",
    "                            // Create the \"Add to Cart\" button\n",
    "                            const addToCartButton = document.createElement('button');\n",
    "                            addToCartButton.textContent = 'Add to Cart';\n",
    "                            addToCartButton.addEventListener('click', () => {\n",
    "                                addToCart(item.name, item.unitCost); // Call the addToCart function when the button is clicked\n",
    "                            });\n",
    "\n",
    "                            actionCell.appendChild(addToCartButton);\n",
    "\n",
    "                            row.appendChild(productCell);\n",
    "                            row.appendChild(priceCell);\n",
    "                            row.appendChild(actionCell); // Add the \"Add to Cart\" button to the table row\n",
    "\n",
    "                            tableBody.appendChild(row);\n",
    "                        });\n",
    "                    } else {\n",
    "                        console.error('Data is not in the expected format:', data);\n",
    "                    }\n",
    "                })\n",
    "                .catch(error => {\n",
    "                    // Handle errors\n",
    "                    console.error('Error:', error);\n",
    "                });\n",
    "        }\n",
    "\n",
    "        // Call the fetchData function when the page loads\n",
    "        fetchData();\n",
    "\n",
    "        // Your existing addToCart function for interacting with the cart API\n",
    "        function addToCart(productName, price) {\n",
    "            // ...\n",
    "        }\n",
    "    </script>\n",
    "</body>\n",
    "</html>\n"
   ]
  },
  {
   "cell_type": "markdown",
   "metadata": {},
   "source": [
    "After the \"basic\" HTML of the site was complete, I had to get the endpoints and localhost links from backend. A major commit during this whole project, was this code. This is specifically for the fruits page in our store, but once I had this, I was able to replicate the same thing on the rest of the pages. In the script section, I had javascript code that fetched the localhost link. \n",
    "\n",
    "Once the endpoint was fetched and put on the frontend site, another big complication for me was figuring out how to style the code. When I connected the endpoints, all that showed was an empty page, or it would just list out the elements of our API. I did a lot of research, and found out how to organize the data in a table that is user-friendly. "
   ]
  },
  {
   "cell_type": "markdown",
   "metadata": {},
   "source": [
    "# Before\n",
    "<img width=\"1000\" src=\"https://github.com/alishahussain/student2/assets/39902320/5c708f03-c282-43ca-9eec-f53b361acc70\">\n",
    "\n",
    "# After\n",
    "<img width=\"1000\" src=\"https://github.com/alishahussain/student2/assets/39902320/4ed3e9ae-a328-4166-bff8-6a2e912ad99e\">"
   ]
  }
 ],
 "metadata": {
  "language_info": {
   "name": "python"
  }
 },
 "nbformat": 4,
 "nbformat_minor": 2
}
