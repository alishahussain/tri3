{
 "cells": [
  {
   "cell_type": "markdown",
   "metadata": {},
   "source": [
    "---\n",
    "toc: true\n",
    "comments: false\n",
    "layout: post\n",
    "title: ☆ Libraries HW\n",
    "type: hacks\n",
    "courses: { compsci: {week: 10} }\n",
    "unit: 3\n",
    "---"
   ]
  },
  {
   "cell_type": "markdown",
   "metadata": {},
   "source": [
    "# Python Libraries:\n",
    "\n",
    "# Math Library:\n",
    "## Purpose: The math library allows a person to perform mathematical operations\n",
    "\n",
    "## My two favorite functions:\n",
    "- math.sqrt(): This function returns the square root of any number. To use it, the person would input a number into the parentheses, and the output would be the answer. For example, math.sqrt(25) would return 5.0.\n",
    "- math.add(): This function adds 2 or more numbers together. To use it, a person would put the set of numbers into the parentheses seperated by a comma. \n",
    "\n",
    "# Random Library:\n",
    "## Purpose: The random library is used for generating random numbers and performing random operations in Python.\n",
    "\n",
    "## My two favorite functions:\n",
    "- random.randint(a, b): This function generates a random integer between 'a' and 'b'. To use it, the coder would input two numbers seperated by a comma, into the parentheses. The first number would be the minimum of the random number, and the second would be the maximum.  \n",
    "- random.choice(): This function selects a random element from the sequence seq, which can be a list, tuple, or string. It's useful for random selection, e.g., picking a random item from a list.\n",
    "\n",
    "# Turtle Library:\n",
    "## Purpose: The turtle library is a fun and educational library for creating drawings and simple graphics using a turtle that moves around the screen.\n",
    "\n",
    "## My two favorite functions:\n",
    "\n",
    "- turtle.forward(): This function moves the turtle forward by a specified distance. It's used for creating various shapes and drawings.\n",
    "- turtle.circle(): This function instructs the turtle to draw a circle with the given radius that will be specified in the parenthesis. You can use it to create circular patterns."
   ]
  },
  {
   "cell_type": "markdown",
   "metadata": {},
   "source": [
    "# API: NASA API (Astronomy Pictures)\n",
    "## Something unique: \n",
    "One unique feature of the NASA API is that it provides a new astronomy picture every day as well as a detailed explanation written by a professional astronomer. It covers a wide range of celestial objects and phenomena, making it an exciting resource for space enthusiasts.\n",
    "\n",
    "## Type of API: \n",
    "It is a space and astronomy data API.\n",
    "\n",
    "## Function: \n",
    "The NASA API allows developers to retrieve daily images and information about various astronomical phenomena, including stars, planets, galaxies, and space missions.\n",
    "\n",
    "## Scenario: \n",
    "A potential scenario for using the NASA API is to create an app that displays the Astronomy Picture of the Day (APOD) along with a description. Users can receive new images and educational information about space every day. "
   ]
  },
  {
   "cell_type": "markdown",
   "metadata": {},
   "source": [
    "# Data Manipulation"
   ]
  },
  {
   "cell_type": "code",
   "execution_count": 16,
   "metadata": {},
   "outputs": [
    {
     "name": "stdout",
     "output_type": "stream",
     "text": [
      "20\n"
     ]
    }
   ],
   "source": [
    "import random\n",
    "# import the librariy \"random\"\n",
    "number = random.randint(1,50)\n",
    "#created a variable named \"number\" that generates a number 1-50\n",
    "print(number)"
   ]
  }
 ],
 "metadata": {
  "kernelspec": {
   "display_name": "Python 3",
   "language": "python",
   "name": "python3"
  },
  "language_info": {
   "codemirror_mode": {
    "name": "ipython",
    "version": 3
   },
   "file_extension": ".py",
   "mimetype": "text/x-python",
   "name": "python",
   "nbconvert_exporter": "python",
   "pygments_lexer": "ipython3",
   "version": "3.11.5"
  }
 },
 "nbformat": 4,
 "nbformat_minor": 2
}
