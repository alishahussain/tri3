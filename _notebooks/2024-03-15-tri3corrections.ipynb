{
 "cells": [
  {
   "cell_type": "markdown",
   "metadata": {},
   "source": [
    "---\n",
    "comments: True\n",
    "layout: post\n",
    "title: ☆ MC Corrections\n",
    "type: collab\n",
    "courses: { csp: {week: 26} }\n",
    "unit: 7\n",
    "---"
   ]
  },
  {
   "cell_type": "markdown",
   "metadata": {},
   "source": [
    "<img width=\"1000\" alt=\"Screenshot 2024-03-15 at 9 00 41 AM\" src=\"https://github.com/alishahussain/student2/assets/39902320/8fcf8093-9af5-4edf-9151-7d186829fea7\">\n",
    "\n",
    "\n",
    "## Q3\n",
    "I got this question wrong because the variable, second, gets assigned to the value, temp. It goes from 200 to 100. Then, it gets assigned back to the variable second, which means that second = 100. \n",
    "\n",
    "## Q9\n",
    "Analog signal audio are digitally sampled over time, and are at discreet intervals. Digital data are represented at the lowest bits possible. \n",
    "\n",
    "## Q10\n",
    "The binary equivalent to 11000 is 2^4, plus 2^3 which is equal to 24. \n",
    "\n",
    "## Q12\n",
    "answer choice D moves the robot forward, and won't show \n",
    "\n",
    "## Q14\n",
    "\n",
    "\n",
    "## Q17\n",
    "\n",
    "\n",
    "## Q23\n",
    "\n",
    "\n",
    "## Q28\n",
    "\n",
    "\n",
    "## Q55\n",
    "\n",
    "\n",
    "## Q66\n",
    "\n"
   ]
  }
 ],
 "metadata": {
  "language_info": {
   "name": "python"
  }
 },
 "nbformat": 4,
 "nbformat_minor": 2
}
