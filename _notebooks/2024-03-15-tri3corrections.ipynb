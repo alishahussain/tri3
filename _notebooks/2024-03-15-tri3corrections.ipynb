{
 "cells": [
  {
   "cell_type": "markdown",
   "metadata": {},
   "source": [
    "---\n",
    "comments: True\n",
    "layout: post\n",
    "title: ☆ MC Corrections\n",
    "type: collab\n",
    "courses: { csp: {week: 26} }\n",
    "unit: 7\n",
    "---"
   ]
  },
  {
   "cell_type": "markdown",
   "metadata": {},
   "source": [
    "<img width=\"1000\" alt=\"Screenshot 2024-03-15 at 9 00 41 AM\" src=\"https://github.com/alishahussain/student2/assets/39902320/8fcf8093-9af5-4edf-9151-7d186829fea7\">\n",
    "\n",
    "\n",
    "## Q3\n",
    "\n",
    "<img width=\"909\" alt=\"Screenshot 2024-03-19 at 8 54 44 AM\" src=\"https://github.com/alishahussain/student2/assets/39902320/d444b1d6-8f27-446a-877b-76203235fb25\">\n",
    "\n",
    "I got this question wrong because the variable, second, gets assigned to the value, temp. It goes from 200 to 100. Then, it gets assigned back to the variable second, which means that second = 100. \n",
    "\n",
    "## Q9\n",
    "\n",
    "<img width=\"913\" alt=\"Screenshot 2024-03-19 at 8 54 58 AM\" src=\"https://github.com/alishahussain/student2/assets/39902320/910996f8-bedf-4f78-8617-4339c3df8017\">\n",
    "\n",
    "Analog signal audio are digitally sampled over time, and are at discreet intervals. Digital data are represented at the lowest bits possible. \n",
    "\n",
    "## Q10\n",
    "\n",
    "<img width=\"910\" alt=\"Screenshot 2024-03-19 at 8 55 18 AM\" src=\"https://github.com/alishahussain/student2/assets/39902320/9f3ae691-879e-4010-bc56-98163a9da3b2\">\n",
    "\n",
    "The binary equivalent to 11000 is 2^4, plus 2^3 which is equal to 24. \n",
    "\n",
    "## Q12\n",
    "\n",
    "<img width=\"921\" alt=\"Screenshot 2024-03-19 at 8 55 54 AM\" src=\"https://github.com/alishahussain/student2/assets/39902320/fd512d78-1cf3-4749-94d1-2e983c63037a\">\n",
    "\n",
    "answer choice D moves the robot forward, and won't show \n",
    "\n",
    "## Q14\n",
    "\n",
    "<img width=\"914\" alt=\"Screenshot 2024-03-19 at 8 57 03 AM\" src=\"https://github.com/alishahussain/student2/assets/39902320/4ec66dd9-59ab-4653-b609-aca24ffad3ab\">\n",
    "\n",
    "## Q17\n",
    "\n",
    "<img width=\"913\" alt=\"Screenshot 2024-03-19 at 8 57 31 AM\" src=\"https://github.com/alishahussain/student2/assets/39902320/6fbacff3-71cf-4792-a6f4-f31d9ac0c2f9\">\n",
    "\n",
    "## Q23\n",
    "\n",
    "<img width=\"914\" alt=\"Screenshot 2024-03-19 at 8 57 54 AM\" src=\"https://github.com/alishahussain/student2/assets/39902320/e292d54b-2b93-4dc4-b65c-c9e9c77e4858\">\n",
    "\n",
    "## Q28\n",
    "\n",
    "<img width=\"917\" alt=\"Screenshot 2024-03-19 at 8 58 11 AM\" src=\"https://github.com/alishahussain/student2/assets/39902320/b7dc799a-9158-48e8-9a12-9d51a98efe20\">\n",
    "\n",
    "## Q55\n",
    "\n",
    "<img width=\"919\" alt=\"Screenshot 2024-03-19 at 8 58 33 AM\" src=\"https://github.com/alishahussain/student2/assets/39902320/8d3d1fe2-c13d-44a1-b0c8-7f3396151829\">\n",
    "\n",
    "## Q66\n",
    "\n",
    "<img width=\"933\" alt=\"Screenshot 2024-03-19 at 8 58 55 AM\" src=\"https://github.com/alishahussain/student2/assets/39902320/873e5b9f-e05d-43ec-bc6d-f2ff1d9b6462\">\n",
    "\n"
   ]
  }
 ],
 "metadata": {
  "language_info": {
   "name": "python"
  }
 },
 "nbformat": 4,
 "nbformat_minor": 2
}
