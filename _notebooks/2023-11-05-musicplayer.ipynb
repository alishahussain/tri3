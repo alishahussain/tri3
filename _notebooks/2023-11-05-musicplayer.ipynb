{
 "cells": [
  {
   "cell_type": "markdown",
   "metadata": {},
   "source": [
    "---\n",
    "toc: true\n",
    "comments: false\n",
    "layout: post\n",
    "title: ☆ Music\n",
    "type: hacks\n",
    "courses: { compsci: {week: 10} }\n",
    "unit: 3\n",
    "---"
   ]
  },
  {
   "cell_type": "code",
   "execution_count": 3,
   "metadata": {},
   "outputs": [
    {
     "name": "stdout",
     "output_type": "stream",
     "text": [
      "1. play music\n",
      "2. stop music\n",
      "3. stop\n",
      "Invalid choice. Please try again.\n",
      "1. play music\n",
      "2. stop music\n",
      "3. stop\n"
     ]
    },
    {
     "ename": "error",
     "evalue": "No file '' found in working directory '/Users/alishahussain/vscode/student2/_notebooks'.",
     "output_type": "error",
     "traceback": [
      "\u001b[0;31m---------------------------------------------------------------------------\u001b[0m",
      "\u001b[0;31merror\u001b[0m                                     Traceback (most recent call last)",
      "\u001b[1;32m/Users/alishahussain/vscode/student2/_notebooks/2023-11-05-musicplayer.ipynb Cell 2\u001b[0m line \u001b[0;36m2\n\u001b[1;32m     <a href='vscode-notebook-cell:/Users/alishahussain/vscode/student2/_notebooks/2023-11-05-musicplayer.ipynb#W0sZmlsZQ%3D%3D?line=17'>18</a>\u001b[0m \u001b[39mif\u001b[39;00m choice \u001b[39m==\u001b[39m \u001b[39m\"\u001b[39m\u001b[39m1\u001b[39m\u001b[39m\"\u001b[39m:\n\u001b[1;32m     <a href='vscode-notebook-cell:/Users/alishahussain/vscode/student2/_notebooks/2023-11-05-musicplayer.ipynb#W0sZmlsZQ%3D%3D?line=18'>19</a>\u001b[0m     file_path \u001b[39m=\u001b[39m \u001b[39minput\u001b[39m(\u001b[39m\"\u001b[39m\u001b[39mEnter the path to the music file: \u001b[39m\u001b[39m\"\u001b[39m)\n\u001b[0;32m---> <a href='vscode-notebook-cell:/Users/alishahussain/vscode/student2/_notebooks/2023-11-05-musicplayer.ipynb#W0sZmlsZQ%3D%3D?line=19'>20</a>\u001b[0m     play_music(file_path)\n\u001b[1;32m     <a href='vscode-notebook-cell:/Users/alishahussain/vscode/student2/_notebooks/2023-11-05-musicplayer.ipynb#W0sZmlsZQ%3D%3D?line=20'>21</a>\u001b[0m \u001b[39melif\u001b[39;00m choice \u001b[39m==\u001b[39m \u001b[39m\"\u001b[39m\u001b[39m2\u001b[39m\u001b[39m\"\u001b[39m:\n\u001b[1;32m     <a href='vscode-notebook-cell:/Users/alishahussain/vscode/student2/_notebooks/2023-11-05-musicplayer.ipynb#W0sZmlsZQ%3D%3D?line=21'>22</a>\u001b[0m     stop_music()\n",
      "\u001b[1;32m/Users/alishahussain/vscode/student2/_notebooks/2023-11-05-musicplayer.ipynb Cell 2\u001b[0m line \u001b[0;36m5\n\u001b[1;32m      <a href='vscode-notebook-cell:/Users/alishahussain/vscode/student2/_notebooks/2023-11-05-musicplayer.ipynb#W0sZmlsZQ%3D%3D?line=2'>3</a>\u001b[0m \u001b[39mdef\u001b[39;00m \u001b[39mplay_music\u001b[39m(file_path):\n\u001b[1;32m      <a href='vscode-notebook-cell:/Users/alishahussain/vscode/student2/_notebooks/2023-11-05-musicplayer.ipynb#W0sZmlsZQ%3D%3D?line=3'>4</a>\u001b[0m     pygame\u001b[39m.\u001b[39mmixer\u001b[39m.\u001b[39minit()\n\u001b[0;32m----> <a href='vscode-notebook-cell:/Users/alishahussain/vscode/student2/_notebooks/2023-11-05-musicplayer.ipynb#W0sZmlsZQ%3D%3D?line=4'>5</a>\u001b[0m     pygame\u001b[39m.\u001b[39;49mmixer\u001b[39m.\u001b[39;49mmusic\u001b[39m.\u001b[39;49mload(file_path)\n\u001b[1;32m      <a href='vscode-notebook-cell:/Users/alishahussain/vscode/student2/_notebooks/2023-11-05-musicplayer.ipynb#W0sZmlsZQ%3D%3D?line=5'>6</a>\u001b[0m     pygame\u001b[39m.\u001b[39mmixer\u001b[39m.\u001b[39mmusic\u001b[39m.\u001b[39mplay()\n",
      "\u001b[0;31merror\u001b[0m: No file '' found in working directory '/Users/alishahussain/vscode/student2/_notebooks'."
     ]
    }
   ],
   "source": [
    "import pygame\n",
    "\n",
    "def play_music(file_path):\n",
    "    pygame.mixer.init()\n",
    "    pygame.mixer.music.load(file_path)\n",
    "    pygame.mixer.music.play()\n",
    "\n",
    "def stop_music():\n",
    "    pygame.mixer.music.stop()\n",
    "\n",
    "if __name__ == \"__main__\":\n",
    "    while True:\n",
    "        print(\"1. play music\")\n",
    "        print(\"2. stop music\")\n",
    "        print(\"3. stop\")\n",
    "        choice = input(\"choose the action\")\n",
    "\n",
    "        if choice == \"1\":\n",
    "            file_path = input(\"Enter the path to the music file: \")\n",
    "            play_music(file_path)\n",
    "        elif choice == \"2\":\n",
    "            stop_music()\n",
    "        elif choice == \"3\":\n",
    "            break\n",
    "        else:\n",
    "            print(\"Invalid choice. Please try again.\")\n"
   ]
  }
 ],
 "metadata": {
  "kernelspec": {
   "display_name": "Python 3",
   "language": "python",
   "name": "python3"
  },
  "language_info": {
   "codemirror_mode": {
    "name": "ipython",
    "version": 3
   },
   "file_extension": ".py",
   "mimetype": "text/x-python",
   "name": "python",
   "nbconvert_exporter": "python",
   "pygments_lexer": "ipython3",
   "version": "3.11.5"
  }
 },
 "nbformat": 4,
 "nbformat_minor": 2
}
