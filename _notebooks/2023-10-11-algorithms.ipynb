{
 "cells": [
  {
   "cell_type": "markdown",
   "metadata": {},
   "source": [
    "---\n",
    "toc: true\n",
    "comments: false\n",
    "layout: post\n",
    "title: ☆ Algorithms HW\n",
    "type: hacks\n",
    "courses: { compsci: {week: 7} }\n",
    "unit: 2\n",
    "---"
   ]
  },
  {
   "cell_type": "markdown",
   "metadata": {},
   "source": [
    "## problem 1"
   ]
  },
  {
   "cell_type": "code",
   "execution_count": null,
   "metadata": {},
   "outputs": [],
   "source": [
    "def is_palindrome(s):\n",
    "    s = s.replace(\" \", \"\").lower()\n",
    "    return s == s[::-1]\n",
    "\n",
    "user_input = input(\"Enter a string: \")\n",
    "\n",
    "if is_palindrome(user_input):\n",
    "    print(\"Palindrome\")\n",
    "else:\n",
    "    print(\"Not a palindrome\")"
   ]
  },
  {
   "cell_type": "markdown",
   "metadata": {},
   "source": [
    "## problem 2"
   ]
  },
  {
   "cell_type": "code",
   "execution_count": null,
   "metadata": {},
   "outputs": [],
   "source": [
    "def sort_numbers(input_file, output_file):\n",
    "    with open(input_file, 'r') as f:\n",
    "        numbers = [int(line.strip()) for line in f]\n",
    "\n",
    "    numbers.sort()\n",
    "\n",
    "    with open(output_file, 'w') as f:\n",
    "        for number in numbers:\n",
    "            f.write(f\"{number}\\n\")\n",
    "\n",
    "    print(f\"Numbers have been sorted and saved to '{output_file}'.\")\n",
    "\n",
    "input_file = \"unsorted_numbers.txt\"\n",
    "output_file = \"sorted_numbers.txt\"\n",
    "\n",
    "sort_numbers(input_file, output_file)"
   ]
  }
 ],
 "metadata": {
  "language_info": {
   "name": "python"
  },
  "orig_nbformat": 4
 },
 "nbformat": 4,
 "nbformat_minor": 2
}
