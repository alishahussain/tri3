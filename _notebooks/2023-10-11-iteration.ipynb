{
 "cells": [
  {
   "cell_type": "markdown",
   "metadata": {},
   "source": [
    "---\n",
    "toc: true\n",
    "comments: false\n",
    "layout: post\n",
    "title: ☆ Iteration + Recursion HW\n",
    "type: hacks\n",
    "courses: { compsci: {week: 8} }\n",
    "unit: 3\n",
    "---"
   ]
  },
  {
   "cell_type": "markdown",
   "metadata": {},
   "source": [
    "## recursion"
   ]
  },
  {
   "cell_type": "code",
   "execution_count": 1,
   "metadata": {},
   "outputs": [
    {
     "name": "stdout",
     "output_type": "stream",
     "text": [
      "Pasture Child\n",
      "Into It\n",
      "Orange Soda\n",
      "Thinkin Bout You\n",
      "Denver\n",
      "Blame on Me\n",
      "Phone Numbers\n",
      "Keep Driving\n"
     ]
    }
   ],
   "source": [
    "favorite_songs = [\"Pasture Child\", \"Into It\", \"Orange Soda\", \"Thinkin Bout You\", \"Denver\", \"Blame on Me\", \"Phone Numbers\", \"Keep Driving\"]\n",
    "\n",
    "def list_favorite_songs(songs, index):\n",
    "    if index == len(songs):\n",
    "        return\n",
    "    print(songs[index])\n",
    "    list_favorite_songs(songs, index + 1)\n",
    "\n",
    "list_favorite_songs(favorite_songs, 0)\n"
   ]
  },
  {
   "cell_type": "markdown",
   "metadata": {},
   "source": [
    "## fibonnaci sequence program"
   ]
  },
  {
   "cell_type": "markdown",
   "metadata": {},
   "source": [
    "The base cases are needed to stop the recursion and define the values for f(0) as well as f(1), which are important in order to continue the sequence. Without them, the sequence would not be able to be repeated infintitely. "
   ]
  }
 ],
 "metadata": {
  "kernelspec": {
   "display_name": "Python 3",
   "language": "python",
   "name": "python3"
  },
  "language_info": {
   "codemirror_mode": {
    "name": "ipython",
    "version": 3
   },
   "file_extension": ".py",
   "mimetype": "text/x-python",
   "name": "python",
   "nbconvert_exporter": "python",
   "pygments_lexer": "ipython3",
   "version": "3.11.5"
  },
  "orig_nbformat": 4
 },
 "nbformat": 4,
 "nbformat_minor": 2
}
