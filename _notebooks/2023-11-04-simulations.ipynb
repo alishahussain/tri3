{
 "cells": [
  {
   "cell_type": "markdown",
   "metadata": {},
   "source": [
    "---\n",
    "toc: true\n",
    "comments: false\n",
    "layout: post\n",
    "title: ☆ simulations hw\n",
    "type: hacks\n",
    "courses: { compsci: {week: 12} }\n",
    "unit: 3\n",
    "---"
   ]
  },
  {
   "cell_type": "code",
   "execution_count": 1,
   "metadata": {},
   "outputs": [
    {
     "name": "stdout",
     "output_type": "stream",
     "text": [
      "[1, 2, 4, 7]\n"
     ]
    }
   ],
   "source": [
    "def sort_numbers(num1, num2, num3, num4):\n",
    "    numbers = [num1, num2, num3, num4]\n",
    "    numbers.sort()\n",
    "    return numbers\n",
    "\n",
    "# Example usage\n",
    "num1 = 4\n",
    "num2 = 2\n",
    "num3 = 7\n",
    "num4 = 1\n",
    "sorted_numbers = sort_numbers(num1, num2, num3, num4)\n",
    "print(sorted_numbers)\n"
   ]
  },
  {
   "cell_type": "markdown",
   "metadata": {},
   "source": [
    "## Benefits of using a simulation:\n",
    "\n",
    "- safe for testing: Simulations let you try things out without real-world risks.\n",
    "- efficient: Simulations can get the test done faster than actually conducting it in real life.\n",
    "- skill practice: They're great for practicing skills like pilot training.\n",
    "\n",
    "## Drawbacks of using a simulation: \n",
    "\n",
    "- simulations are not always accurate, and can sometimes not be similar to real-life. they can conclude incorrect results and not be an accurate model. \n",
    "\n",
    "## Social Media\n",
    "\n",
    "- social media platforms such as tiktok have algorithms that keep people interacting on the app. Based on a users past activity, the app will continue to feed new videos that it thinks the user will like. If they interact more, then more of those kinds of videos will show up. This algorithm continues to be perfected the more that the user interacts. "
   ]
  }
 ],
 "metadata": {
  "kernelspec": {
   "display_name": "Python 3",
   "language": "python",
   "name": "python3"
  },
  "language_info": {
   "codemirror_mode": {
    "name": "ipython",
    "version": 3
   },
   "file_extension": ".py",
   "mimetype": "text/x-python",
   "name": "python",
   "nbconvert_exporter": "python",
   "pygments_lexer": "ipython3",
   "version": "3.11.5"
  }
 },
 "nbformat": 4,
 "nbformat_minor": 2
}
