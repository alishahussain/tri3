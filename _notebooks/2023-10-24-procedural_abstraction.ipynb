{
 "cells": [
  {
   "cell_type": "markdown",
   "metadata": {},
   "source": [
    "---\n",
    "toc: true\n",
    "comments: false\n",
    "layout: post\n",
    "title: ☆ Procedural Abstraction HW\n",
    "type: hacks\n",
    "courses: { compsci: {week: 11} }\n",
    "unit: 3\n",
    "---"
   ]
  },
  {
   "cell_type": "code",
   "execution_count": 1,
   "metadata": {},
   "outputs": [
    {
     "name": "stdout",
     "output_type": "stream",
     "text": [
      "The sum of 7 and 5 is: 12\n"
     ]
    }
   ],
   "source": [
    "def procedural_abstraction(param):\n",
    "    result = param * 2\n",
    "    return result\n",
    "\n",
    "def summing_machine(first_number, second_number):\n",
    "    sum_result = first_number + second_number\n",
    "    return sum_result\n",
    "\n",
    "result = summing_machine(7, 5)\n",
    "print(\"The sum of 7 and 5 is:\", result)\n"
   ]
  }
 ],
 "metadata": {
  "kernelspec": {
   "display_name": "Python 3",
   "language": "python",
   "name": "python3"
  },
  "language_info": {
   "codemirror_mode": {
    "name": "ipython",
    "version": 3
   },
   "file_extension": ".py",
   "mimetype": "text/x-python",
   "name": "python",
   "nbconvert_exporter": "python",
   "pygments_lexer": "ipython3",
   "version": "3.11.5"
  }
 },
 "nbformat": 4,
 "nbformat_minor": 2
}
