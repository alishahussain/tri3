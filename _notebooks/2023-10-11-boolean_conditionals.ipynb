{
 "cells": [
  {
   "cell_type": "markdown",
   "metadata": {},
   "source": [
    "---\n",
    "toc: true\n",
    "comments: false\n",
    "layout: post\n",
    "title: ☆ Boolean and Conditionals HW\n",
    "type: hacks\n",
    "courses: { compsci: {week: 8} }\n",
    "unit: 3\n",
    "---"
   ]
  },
  {
   "cell_type": "markdown",
   "metadata": {},
   "source": [
    "## problem 1 "
   ]
  },
  {
   "cell_type": "code",
   "execution_count": 4,
   "metadata": {},
   "outputs": [
    {
     "name": "stdout",
     "output_type": "stream",
     "text": [
      "you are eligible to vote!\n"
     ]
    }
   ],
   "source": [
    "citizen = input(\"Are you a US citizen? (yes/no)\")\n",
    "\n",
    "#if yes, they need to be 18 or older \n",
    "if citizen == \"yes\":\n",
    "    age = int(input(\"what is your age\"))\n",
    "    if age >= 18:\n",
    "        #if they are 18 or older, they can vote\n",
    "        print(\"you are eligible to vote!\")\n",
    "    else:\n",
    "        #if not, they can't vote\n",
    "        print(\"sorry, you are too young to vote. maybe wait a few years!\")\n",
    "else:\n",
    "    #if they are not a citizen, they also can't vote\n",
    "    print(\"sorry, you are not eligible to vote\")"
   ]
  },
  {
   "cell_type": "markdown",
   "metadata": {},
   "source": [
    "# problem 2"
   ]
  },
  {
   "cell_type": "code",
   "execution_count": 12,
   "metadata": {},
   "outputs": [
    {
     "ename": "SyntaxError",
     "evalue": "invalid syntax. Perhaps you forgot a comma? (61162661.py, line 7)",
     "output_type": "error",
     "traceback": [
      "\u001b[0;36m  Cell \u001b[0;32mIn[12], line 7\u001b[0;36m\u001b[0m\n\u001b[0;31m    print(\"yay! you're eligible for a bonus of $\"{bonus})\u001b[0m\n\u001b[0m          ^\u001b[0m\n\u001b[0;31mSyntaxError\u001b[0m\u001b[0;31m:\u001b[0m invalid syntax. Perhaps you forgot a comma?\n"
     ]
    }
   ],
   "source": [
    "salary = (input(\"What is your salary?\"))\n",
    "years = int(input(\"How long have you worked for?\"))\n",
    "\n",
    "# Check if the employee is eligible fo bonus\n",
    "if years > 5:\n",
    "    bonus = 0.05 * salary\n",
    "    print(\"yay! you're eligible for a bonus of $\"{bonus})\n",
    "else:\n",
    "    print(\"sorry, you're not eligible for a bonus.\")"
   ]
  },
  {
   "cell_type": "markdown",
   "metadata": {},
   "source": [
    "# problem 3"
   ]
  },
  {
   "cell_type": "code",
   "execution_count": 8,
   "metadata": {},
   "outputs": [
    {
     "name": "stdout",
     "output_type": "stream",
     "text": [
      "Your grade is a(n) A\n"
     ]
    }
   ],
   "source": [
    "#user input\n",
    "marks = float(input(\"What are your marks?\"))\n",
    "\n",
    "# all the grade rules\n",
    "if marks < 25:\n",
    "    grade = \"F\"\n",
    "elif 25 <= marks < 45:\n",
    "    grade = \"E\"\n",
    "elif 45 <= marks < 50:\n",
    "    grade = \"D\"\n",
    "elif 50 <= marks < 60:\n",
    "    grade = \"C\"\n",
    "elif 60 <= marks < 80:\n",
    "    grade = \"B\"\n",
    "else:\n",
    "    grade = \"A\"\n",
    "\n",
    "# Print the  grade\n",
    "print(\"Your grade is a(n)\", grade)\n"
   ]
  }
 ],
 "metadata": {
  "kernelspec": {
   "display_name": "Python 3",
   "language": "python",
   "name": "python3"
  },
  "language_info": {
   "codemirror_mode": {
    "name": "ipython",
    "version": 3
   },
   "file_extension": ".py",
   "mimetype": "text/x-python",
   "name": "python",
   "nbconvert_exporter": "python",
   "pygments_lexer": "ipython3",
   "version": "3.11.5"
  },
  "orig_nbformat": 4
 },
 "nbformat": 4,
 "nbformat_minor": 2
}
