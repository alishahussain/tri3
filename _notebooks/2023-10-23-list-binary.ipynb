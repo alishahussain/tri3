{
 "cells": [
  {
   "cell_type": "markdown",
   "metadata": {},
   "source": [
    "---\n",
    "toc: true\n",
    "comments: false\n",
    "layout: post\n",
    "title: ☆ List and Binary HW\n",
    "type: hacks\n",
    "courses: { compsci: {week: 9} }\n",
    "unit: 3\n",
    "---"
   ]
  },
  {
   "cell_type": "markdown",
   "metadata": {},
   "source": [
    "# Question 1"
   ]
  },
  {
   "cell_type": "code",
   "execution_count": 3,
   "metadata": {},
   "outputs": [
    {
     "name": "stdout",
     "output_type": "stream",
     "text": [
      "[2, 4, 6, 8, 10, 12, 14, 16]\n"
     ]
    }
   ],
   "source": [
    "# created a list of elements named list\n",
    "list = [2, 4, 6, 8, 10, 12, 14, 0]\n",
    "\n",
    "# i called the index of the third item in the list, and put it into a variable called ind\n",
    "ind = list[3]\n",
    "\n",
    "# i multiplied the varible 'ind' by 2 and set ind as the new value\n",
    "ind *= 2\n",
    "\n",
    "# i added the variable ind to the list as the 7th element\n",
    "list[7] = ind\n",
    "\n",
    "# printed the new list\n",
    "print(list)\n",
    "\n"
   ]
  },
  {
   "cell_type": "markdown",
   "metadata": {},
   "source": [
    "# Question 2"
   ]
  },
  {
   "cell_type": "code",
   "execution_count": 4,
   "metadata": {},
   "outputs": [
    {
     "name": "stdout",
     "output_type": "stream",
     "text": [
      "5\n"
     ]
    }
   ],
   "source": [
    "import math\n",
    "\n",
    "def iterations(length):\n",
    "    return math.ceil(math.log2(length))\n",
    "\n",
    "worstcase = iterations(20)\n",
    "print(worstcase)\n"
   ]
  },
  {
   "cell_type": "markdown",
   "metadata": {},
   "source": [
    "# Question 3"
   ]
  },
  {
   "cell_type": "markdown",
   "metadata": {},
   "source": [
    "The result of the function would be A. [20, 40, 60, 80, 100]. The function goes through eache element in the list and multiplies it by 2. after multiplying each by 2, the final answer will be A."
   ]
  }
 ],
 "metadata": {
  "kernelspec": {
   "display_name": "Python 3",
   "language": "python",
   "name": "python3"
  },
  "language_info": {
   "codemirror_mode": {
    "name": "ipython",
    "version": 3
   },
   "file_extension": ".py",
   "mimetype": "text/x-python",
   "name": "python",
   "nbconvert_exporter": "python",
   "pygments_lexer": "ipython3",
   "version": "3.11.5"
  }
 },
 "nbformat": 4,
 "nbformat_minor": 2
}
