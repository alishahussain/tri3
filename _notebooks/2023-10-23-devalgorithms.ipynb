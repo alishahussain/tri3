{
 "cells": [
  {
   "cell_type": "markdown",
   "metadata": {},
   "source": [
    "---\n",
    "toc: true\n",
    "comments: false\n",
    "layout: post\n",
    "title: ☆ Developing Algorithms HW\n",
    "type: hacks\n",
    "courses: { compsci: {week: 8} }\n",
    "unit: 3\n",
    "---"
   ]
  },
  {
   "cell_type": "markdown",
   "metadata": {},
   "source": [
    "## Problem 1"
   ]
  },
  {
   "cell_type": "code",
   "execution_count": 13,
   "metadata": {},
   "outputs": [
    {
     "name": "stdout",
     "output_type": "stream",
     "text": [
      "The median of these numbers is 5\n"
     ]
    }
   ],
   "source": [
    "nums = [2, 3, 3, 4, 5, 5, 6, 8, 9, 9, 10]\n",
    "\n",
    "l = len(nums)\n",
    "\n",
    "if l % 2 == 0:\n",
    "    median = (nums[l // 2 - 1] + nums[l // 2]) / 2\n",
    "else:\n",
    "    median = nums[l // 2]\n",
    "\n",
    "print(\"The median of these numbers is\", median)\n"
   ]
  },
  {
   "cell_type": "markdown",
   "metadata": {},
   "source": [
    "## Problem 2"
   ]
  },
  {
   "cell_type": "code",
   "execution_count": 16,
   "metadata": {},
   "outputs": [
    {
     "name": "stdout",
     "output_type": "stream",
     "text": [
      "guess a number 1-100. i'll tell you wether to go higher or lower\n",
      "try going higher!\n",
      "try going higher!\n",
      "try going higher!\n",
      "try going lower!\n",
      "try going higher!\n",
      "you got it! the number was  79\n"
     ]
    }
   ],
   "source": [
    "import random\n",
    "\n",
    "num = random.randint(1,100)\n",
    "\n",
    "print(\"guess a number 1-100. i'll tell you wether to go higher or lower\")\n",
    "\n",
    "while True:\n",
    "    guess = int(input(\"Input your guess!\"))\n",
    "    if guess < num:\n",
    "        print(\"try going higher!\")\n",
    "    if guess > num:\n",
    "        print(\"try going lower!\")\n",
    "    if guess == num:\n",
    "        print(\"you got it! the number was \",num)\n",
    "        break"
   ]
  }
 ],
 "metadata": {
  "kernelspec": {
   "display_name": "Python 3",
   "language": "python",
   "name": "python3"
  },
  "language_info": {
   "codemirror_mode": {
    "name": "ipython",
    "version": 3
   },
   "file_extension": ".py",
   "mimetype": "text/x-python",
   "name": "python",
   "nbconvert_exporter": "python",
   "pygments_lexer": "ipython3",
   "version": "3.11.5"
  }
 },
 "nbformat": 4,
 "nbformat_minor": 2
}
